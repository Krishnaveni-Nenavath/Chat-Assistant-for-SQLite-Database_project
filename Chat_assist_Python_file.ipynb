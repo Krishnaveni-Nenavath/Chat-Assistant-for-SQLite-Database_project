{
 "cells": [
  {
   "cell_type": "markdown",
   "id": "badb139a-3906-4fe1-93ac-7475179ea03d",
   "metadata": {},
   "source": [
    "# Employee Queries:\n",
    "\n",
    "\"Show me all employees in the Sales department.\"\n",
    "\"Who is the manager of the Engineering department?\"\n",
    "\"List all employees hired after 2023-01-01.\"\n",
    "\"What is the total salary expense for the IT department?\"\n",
    "Other Variations:\n",
    "\n",
    "\"Employees in the HR department.\"\n",
    "\"Manager of the Finance department.\"\n",
    "\"Employees hired after 2022-06-15.\"\n",
    "\"Total salary expense for the Marketing department.\""
   ]
  },
  {
   "cell_type": "code",
   "execution_count": 1,
   "id": "ef212939-afce-44c3-96f6-1d55080cce38",
   "metadata": {},
   "outputs": [
    {
     "name": "stdout",
     "output_type": "stream",
     "text": [
      "True\n"
     ]
    }
   ],
   "source": [
    "import os\n",
    "\n",
    "# Check if the database file 'chat_assistant.db' exists in the current directory\n",
    "print(os.path.exists(\"chat_assistant.db\"))\n",
    "\n"
   ]
  },
  {
   "cell_type": "code",
   "execution_count": 3,
   "id": "759adffd-3f34-4563-8d9e-b4362f625682",
   "metadata": {},
   "outputs": [
    {
     "name": "stdout",
     "output_type": "stream",
     "text": [
      "Tables in database: [('departments',), ('sqlite_sequence',), ('employees',)]\n"
     ]
    }
   ],
   "source": [
    "import sqlite3\n",
    "\n",
    "# Connect to the SQLite database\n",
    "conn = sqlite3.connect('chat_assistant.db')\n",
    "cursor = conn.cursor()\n",
    "\n",
    "# Retrieve and display all table names in the database\n",
    "cursor.execute(\"SELECT name FROM sqlite_master WHERE type='table';\")\n",
    "tables = cursor.fetchall()\n",
    "\n",
    "print(\"Tables in database:\", tables)\n",
    "\n",
    "# Close the database connection\n",
    "conn.close()\n",
    "\n"
   ]
  },
  {
   "cell_type": "code",
   "execution_count": 5,
   "id": "815a0f6c-9772-475c-9e20-b97099760cfd",
   "metadata": {},
   "outputs": [
    {
     "name": "stderr",
     "output_type": "stream",
     "text": [
      "[nltk_data] Downloading package punkt to\n",
      "[nltk_data]     C:\\Users\\krish\\AppData\\Roaming\\nltk_data...\n",
      "[nltk_data]   Package punkt is already up-to-date!\n"
     ]
    },
    {
     "name": "stdout",
     "output_type": "stream",
     "text": [
      "Hello! I'm your chat assistant. How can I assist you?\n"
     ]
    },
    {
     "name": "stdin",
     "output_type": "stream",
     "text": [
      "You:  Show me all employees in the Sales department.\n"
     ]
    },
    {
     "name": "stdout",
     "output_type": "stream",
     "text": [
      "Assistant:\n",
      " 1. Teresa Barber\n",
      "2. Michael Andersen\n",
      "3. Stephanie Knight\n",
      "4. Cassidy Spears\n",
      "5. Jennifer Horn\n",
      "6. Brian Webster\n",
      "7. Sharon Cook\n",
      "8. Megan Rodriguez\n",
      "9. Suzanne Parsons\n",
      "10. Arthur White\n",
      "11. Julia Smith\n",
      "12. Dr. William Woodard\n",
      "13. Andrea Mitchell\n",
      "14. Valerie Maddox\n",
      "15. Jillian Bryant\n",
      "16. Jennifer Andrews\n",
      "17. Pedro Munoz\n",
      "18. Joel Osborne\n",
      "19. David Buchanan MD\n",
      "20. Jacob Espinoza\n",
      "21. Christine Stevens\n",
      "22. David Patterson\n",
      "23. Karen May\n",
      "24. Monica Rivera\n",
      "25. Parker Evans\n",
      "26. Jonathan Buck\n",
      "27. Jeremy Owens\n",
      "28. Alexander Johnson\n",
      "29. Karen Cruz\n",
      "30. Kimberly Soto\n",
      "31. Adrian Williams\n",
      "32. Tasha Greene\n",
      "33. Daniel Hurst\n",
      "34. Jacob Harris\n",
      "35. Debra Conley\n",
      "36. Michael Stewart\n",
      "37. Diana Smith\n",
      "38. Roy Carroll\n",
      "39. Lisa Barker\n",
      "40. Mary Bryant\n",
      "41. Melissa Kelly\n",
      "42. Denise Rosales\n",
      "43. Robert Turner\n",
      "44. Ashley Lutz\n",
      "45. Daniel Vasquez\n",
      "46. Alexandra Gonzalez\n",
      "47. Valerie Bates\n",
      "48. Courtney Baker\n",
      "49. Anthony Curry MD\n",
      "50. Shawn Lee\n",
      "51. Lisa Wagner\n",
      "52. David Taylor\n",
      "53. Beverly Lewis\n",
      "54. Tammy Flowers\n",
      "55. Christopher Jackson\n",
      "56. Jordan Simmons\n",
      "57. Manuel Moore\n",
      "58. Kenneth Perry\n",
      "59. Derrick Blanchard\n",
      "60. Cory Moore\n",
      "61. Todd Houston\n",
      "62. Heather Patel\n",
      "63. Gary Scott\n",
      "64. Kimberly Mcbride\n"
     ]
    },
    {
     "name": "stdin",
     "output_type": "stream",
     "text": [
      "You:  Who is the manager of the Engineering department?\n"
     ]
    },
    {
     "name": "stdout",
     "output_type": "stream",
     "text": [
      "Assistant:\n",
      " Bob\n"
     ]
    },
    {
     "name": "stdin",
     "output_type": "stream",
     "text": [
      "You:  List all employees hired after 2023-01-01.\n"
     ]
    },
    {
     "name": "stdout",
     "output_type": "stream",
     "text": [
      "Assistant:\n",
      " 1. Teresa Barber\n",
      "2. Marilyn Hill\n",
      "3. Katrina Lopez\n",
      "4. Troy Price\n",
      "5. Sandra Torres\n",
      "6. Jamie Woods\n",
      "7. Douglas Landry\n",
      "8. Kevin Davis\n",
      "9. Cameron Brown\n",
      "10. Richard Shepherd\n",
      "11. Sharon Cook\n",
      "12. Megan Rodriguez\n",
      "13. Anthony Greene\n",
      "14. Christine Velez\n",
      "15. Shannon Haney\n",
      "16. Shannon Harris\n",
      "17. Amber Rogers\n",
      "18. Taylor Vaughn\n",
      "19. Wendy Nguyen\n",
      "20. David Wilkerson\n",
      "21. Lisa Mccormick\n",
      "22. Julia Smith\n",
      "23. Jessica Hutchinson\n",
      "24. Valerie Maddox\n",
      "25. Jennifer Andrews\n",
      "26. Pedro Munoz\n",
      "27. James Turner\n",
      "28. Laura Meyers\n",
      "29. Charles Vasquez\n",
      "30. David Buchanan MD\n",
      "31. John Hart\n",
      "32. Jay Mills\n",
      "33. Alyssa Marks\n",
      "34. Elizabeth Armstrong\n",
      "35. Susan Zamora\n",
      "36. Kenneth Rivas\n",
      "37. Leslie Jefferson\n",
      "38. Lisa Smith DVM\n",
      "39. Karen May\n",
      "40. Nicole Bell\n",
      "41. Maria Stewart\n",
      "42. Maria Cisneros\n",
      "43. Jeffrey Nolan\n",
      "44. David Kaufman\n",
      "45. Joseph Figueroa\n",
      "46. Emily Green\n",
      "47. Jessica Brown\n",
      "48. Scott Vargas\n",
      "49. Alexander Johnson\n",
      "50. Brianna Blair\n",
      "51. Tonya Moore\n",
      "52. Adrian Williams\n",
      "53. Matthew Torres\n",
      "54. Shelby Rubio\n",
      "55. Andrew Eaton\n",
      "56. William Thomas\n",
      "57. Daniel Hurst\n",
      "58. Melissa Gallagher\n",
      "59. Robert Foster\n",
      "60. Michael Stewart\n",
      "61. Richard Mason\n",
      "62. Steven Wilson\n",
      "63. Gabriela Fields\n",
      "64. Jennifer Simon\n",
      "65. Lori Walters\n",
      "66. Robert Fleming\n",
      "67. Brittany Ward\n",
      "68. James Pratt\n",
      "69. Ashley Fleming\n",
      "70. Matthew Carlson\n",
      "71. John Jones\n",
      "72. Richard Gilmore\n",
      "73. Margaret Chambers\n",
      "74. Lisa Jordan\n",
      "75. Anthony Stewart\n",
      "76. Bryan Harper\n",
      "77. Matthew Nelson\n",
      "78. Matthew Adams\n",
      "79. Tyler Hernandez\n",
      "80. Sara Parks\n",
      "81. Cole Daniels\n",
      "82. Theresa Mcmillan\n",
      "83. Emily Pham\n",
      "84. Jacqueline Graves\n",
      "85. Carlos Ramos\n",
      "86. Allison Caldwell\n",
      "87. Latoya Sanchez\n",
      "88. Edward Orozco\n",
      "89. Nichole Cohen\n",
      "90. Joyce Hall\n",
      "91. Alexander Newton\n",
      "92. Manuel Moore\n",
      "93. Andrew Hoffman\n",
      "94. Brian Galloway\n",
      "95. Tiffany Rice\n",
      "96. Robert Oneal\n",
      "97. Angel Tanner\n",
      "98. John Curry\n",
      "99. Gary Scott\n",
      "100. Martha Mays\n",
      "101. Christina Fernandez\n",
      "102. Bridget Gibbs\n",
      "103. Amber Torres\n",
      "104. Holly Holt\n"
     ]
    },
    {
     "name": "stdin",
     "output_type": "stream",
     "text": [
      "You:  What is the total salary expense for the IT department?\n"
     ]
    },
    {
     "name": "stdout",
     "output_type": "stream",
     "text": [
      "Assistant:\n",
      " No salary data found.\n"
     ]
    },
    {
     "name": "stdin",
     "output_type": "stream",
     "text": [
      "You:  Total average salary expense for the Marketing department.\n"
     ]
    },
    {
     "name": "stdout",
     "output_type": "stream",
     "text": [
      "Assistant:\n",
      " Sorry, I didn't understand that query.\n"
     ]
    },
    {
     "name": "stdin",
     "output_type": "stream",
     "text": [
      "You:  Total salary expense for the Marketing department.\n"
     ]
    },
    {
     "name": "stdout",
     "output_type": "stream",
     "text": [
      "Assistant:\n",
      " 4479625\n"
     ]
    },
    {
     "name": "stdin",
     "output_type": "stream",
     "text": [
      "You:  quit\n"
     ]
    },
    {
     "name": "stdout",
     "output_type": "stream",
     "text": [
      "Goodbye! Have a nice day!\n"
     ]
    }
   ],
   "source": [
    "import sqlite3\n",
    "import re\n",
    "import nltk\n",
    "import pandas as pd\n",
    "from datetime import datetime\n",
    "\n",
    "# Download punkt tokenizer for NLP\n",
    "nltk.download('punkt')\n",
    "\n",
    "# Database connection\n",
    "def connect_db():\n",
    "    conn = sqlite3.connect('chat_assistant.db')\n",
    "    return conn\n",
    "\n",
    "# Load CSV data into SQLite\n",
    "def load_csv_to_db(csv_path):\n",
    "    df = pd.read_csv(csv_path)\n",
    "    conn = connect_db()\n",
    "    df.to_sql('employees', conn, if_exists='replace', index=False)\n",
    "    conn.close()\n",
    "\n",
    "# Queries\n",
    "\n",
    "def get_employees_in_department(department):\n",
    "    conn = connect_db()\n",
    "    cursor = conn.cursor()\n",
    "    cursor.execute(\"\"\"\n",
    "        SELECT name FROM employees \n",
    "        WHERE department_id = (SELECT id FROM departments WHERE name = ?)\n",
    "    \"\"\", (department,))\n",
    "    employees = cursor.fetchall()\n",
    "    conn.close()\n",
    "    \n",
    "    if not employees:\n",
    "        return \"No employees found.\"\n",
    "    \n",
    "    return \"\\n\".join([f\"{i+1}. {employee[0]}\" for i, employee in enumerate(employees)])\n",
    "\n",
    "\n",
    "def get_manager_of_department(department):\n",
    "    conn = connect_db()\n",
    "    cursor = conn.cursor()\n",
    "    cursor.execute(\"SELECT manager FROM departments WHERE name = ?\", (department,))\n",
    "    manager = cursor.fetchone()\n",
    "    conn.close()\n",
    "    return manager[0] if manager else \"No manager found.\"\n",
    "\n",
    "\n",
    "def get_employees_hired_after(date):\n",
    "    try:\n",
    "        hire_date = datetime.strptime(date, '%Y-%m-%d').date()\n",
    "    except ValueError:\n",
    "        return \"Invalid date format. Use YYYY-MM-DD.\"\n",
    "    \n",
    "    conn = connect_db()\n",
    "    cursor = conn.cursor()\n",
    "    cursor.execute(\"SELECT name FROM employees WHERE hire_date > ?\", (hire_date,))\n",
    "    employees = cursor.fetchall()\n",
    "    conn.close()\n",
    "    \n",
    "    if not employees:\n",
    "        return \"No employees found.\"\n",
    "    \n",
    "    return \"\\n\".join([f\"{i+1}. {employee[0]}\" for i, employee in enumerate(employees)])\n",
    "\n",
    "\n",
    "def get_total_salary_expense(department):\n",
    "    conn = connect_db()\n",
    "    cursor = conn.cursor()\n",
    "    cursor.execute(\"\"\"\n",
    "        SELECT SUM(salary) FROM employees \n",
    "        WHERE department_id = (SELECT id FROM departments WHERE name = ?)\n",
    "    \"\"\", (department,))\n",
    "    total_salary = cursor.fetchone()\n",
    "    conn.close()\n",
    "    return total_salary[0] if total_salary and total_salary[0] else \"No salary data found.\"\n",
    "\n",
    "# Query Processor\n",
    "def process_query(query):\n",
    "    query = query.lower()\n",
    "\n",
    "    if \"employees in the\" in query and \"department\" in query:\n",
    "        match = re.search(r\"employees in the (.*?) department\", query)\n",
    "        if match:\n",
    "            return get_employees_in_department(match.group(1).capitalize())\n",
    "    \n",
    "    elif \"manager of the\" in query and \"department\" in query:\n",
    "        match = re.search(r\"manager of the (.*?) department\", query)\n",
    "        if match:\n",
    "            return get_manager_of_department(match.group(1).capitalize())\n",
    "    \n",
    "    elif \"employees hired after\" in query:\n",
    "        match = re.search(r\"employees hired after (\\d{4}-\\d{2}-\\d{2})\", query)\n",
    "        if match:\n",
    "            return get_employees_hired_after(match.group(1))\n",
    "    \n",
    "    elif \"total salary expense for the\" in query:\n",
    "        match = re.search(r\"total salary expense for the (.*?) department\", query)\n",
    "        if match:\n",
    "            return get_total_salary_expense(match.group(1).capitalize())\n",
    "    \n",
    "    return \"Sorry, I didn't understand that query.\"\n",
    "\n",
    "# Start Chat Assistant\n",
    "def start_chat():\n",
    "    print(\"Hello! I'm your chat assistant. How can I assist you?\")\n",
    "    while True:\n",
    "        user_input = input(\"You: \")\n",
    "        if user_input.lower() in [\"exit\", \"quit\", \"bye\"]:\n",
    "            print(\"Goodbye! Have a nice day!\")\n",
    "            break\n",
    "        response = process_query(user_input)\n",
    "        print(\"Assistant:\\n\", response)\n",
    "\n",
    "if __name__ == \"__main__\":\n",
    "    #load_csv_to_db('employees.csv')  # Load data\n",
    "    load_csv_to_db(r\"C:\\Users\\krish\\Downloads\\employees.csv\") \n",
    "    start_chat()\n"
   ]
  },
  {
   "cell_type": "code",
   "execution_count": null,
   "id": "59d7e176-b6b4-4b6c-a0b9-dd9912cb7b14",
   "metadata": {},
   "outputs": [],
   "source": []
  }
 ],
 "metadata": {
  "kernelspec": {
   "display_name": "Python 3 (ipykernel)",
   "language": "python",
   "name": "python3"
  },
  "language_info": {
   "codemirror_mode": {
    "name": "ipython",
    "version": 3
   },
   "file_extension": ".py",
   "mimetype": "text/x-python",
   "name": "python",
   "nbconvert_exporter": "python",
   "pygments_lexer": "ipython3",
   "version": "3.12.4"
  }
 },
 "nbformat": 4,
 "nbformat_minor": 5
}
